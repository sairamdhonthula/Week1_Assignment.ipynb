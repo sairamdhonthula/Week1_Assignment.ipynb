# EV Adoption Forecasting — Week 1 Assignment
# Author: Dhonthula Sairam
# Date: 16 July 2025


# Uncomment below if you need to install
# !pip install pandas numpy matplotlib seaborn scikit-learn joblib

import numpy as np
import pandas as pd
import matplotlib.pyplot as plt
import seaborn as sns
import joblib

from sklearn.preprocessing import LabelEncoder
from sklearn.ensemble import RandomForestRegressor
from sklearn.model_selection import train_test_split
from sklearn.metrics import mean_absolute_error, mean_squared_error, r2_score


df = pd.read_csv("Electric_Vehicle_Population_By_County.csv")
print("✅ Data Loaded")
df.head()


print("Shape:", df.shape)
df.info()
df.isnull().sum()

# Outlier bounds
Q1 = df['Percent Electric Vehicles'].quantile(0.25)
Q3 = df['Percent Electric Vehicles'].quantile(0.75)
IQR = Q3 - Q1
lower_bound = Q1 - 1.5 * IQR
upper_bound = Q3 + 1.5 * IQR
print(f"Outlier bounds: {lower_bound:.2f}, {upper_bound:.2f}")

outliers = df[(df['Percent Electric Vehicles'] < lower_bound) |
              (df['Percent Electric Vehicles'] > upper_bound)]
print(f"Outliers count: {outliers.shape[0]}")


df['Date'] = pd.to_datetime(df['Date'], errors='coerce')
df = df[df['Date'].notnull()]
df['County'] = df['County'].fillna('Unknown')
df['State'] = df['State'].fillna('Unknown')

df['Percent Electric Vehicles'] = np.where(
    df['Percent Electric Vehicles'] > upper_bound, upper_bound,
    np.where(df['Percent Electric Vehicles'] < lower_bound, lower_bound,
             df['Percent Electric Vehicles'])
)

# Convert object columns to numeric
for col in ['Battery Electric Vehicles (BEVs)',
            'Plug-In Hybrid Electric Vehicles (PHEVs)',
            'Electric Vehicle (EV) Total',
            'Non-Electric Vehicle Total',
            'Total Vehicles']:
    df[col] = df[col].str.replace(',', '').astype(int)


df['Year'] = df['Date'].dt.year
df['Month'] = df['Date'].dt.month

le_state = LabelEncoder()
le_county = LabelEncoder()
le_use = LabelEncoder()

df['State_enc'] = le_state.fit_transform(df['State'])
df['County_enc'] = le_county.fit_transform(df['County'])
df['VehicleUse_enc'] = le_use.fit_transform(df['Vehicle Primary Use'])

print("✅ Data Preprocessed")


plt.figure(figsize=(10,5))
sns.lineplot(x='Year', y='Electric Vehicle (EV) Total', data=df, estimator='sum')
plt.title("Total EVs Registered Over Years")
plt.show()

plt.figure(figsize=(8,4))
sns.boxplot(x=df['Percent Electric Vehicles'])
plt.title("Percent Electric Vehicles (Capped)")
plt.show()


X = df[['Year', 'Month', 'State_enc', 'County_enc', 'VehicleUse_enc',
        'Non-Electric Vehicle Total', 'Total Vehicles']]
y = df['Electric Vehicle (EV) Total']

X_train, X_test, y_train, y_test = train_test_split(X, y, 
                                                    test_size=0.2, 
                                                    random_state=42)

rfr = RandomForestRegressor(n_estimators=100, random_state=42)
rfr.fit(X_train, y_train)

y_pred = rfr.predict(X_test)

mae = mean_absolute_error(y_test, y_pred)
mse = mean_squared_error(y_test, y_pred)
r2  = r2_score(y_test, y_pred)

print(f"MAE: {mae:.2f}")
print(f"MSE: {mse:.2f}")
print(f"R²: {r2:.2f}")

# Save model
joblib.dump(rfr, "ev_adoption_model.joblib")
print("✅ Model Saved as 'ev_adoption_model.joblib'")


importances = rfr.feature_importances_
features = X.columns

plt.figure(figsize=(10,6))
sns.barplot(x=importances, y=features)
plt.title("Feature Importance")
plt.show()


future_years = pd.DataFrame({
    'Year': np.arange(2025, 2031),
    'Month': [1]*6,
    'State_enc': [0]*6,
    'County_enc': [0]*6,
    'VehicleUse_enc': [0]*6,
    'Non-Electric Vehicle Total': [1000]*6,
    'Total Vehicles': [1500]*6
})

future_pred = rfr.predict(future_years)

plt.figure(figsize=(8,5))
plt.plot(future_years['Year'], future_pred, marker='o')
plt.title("Forecasted EV Adoption (2025–2030)")
plt.xlabel("Year")
plt.ylabel("Predicted EV Total")
plt.grid(True)
plt.show()

pd.DataFrame({
    "Year": future_years['Year'],
    "Predicted EVs": future_pred.astype(int)
})
